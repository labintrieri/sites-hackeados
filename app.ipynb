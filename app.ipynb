{
 "cells": [
  {
   "cell_type": "code",
   "execution_count": 118,
   "metadata": {},
   "outputs": [
    {
     "name": "stdout",
     "output_type": "stream",
     "text": [
      "Defaulting to user installation because normal site-packages is not writeable\n",
      "Requirement already satisfied: duckduckgo_search in c:\\users\\acer\\appdata\\local\\packages\\pythonsoftwarefoundation.python.3.12_qbz5n2kfra8p0\\localcache\\local-packages\\python312\\site-packages (6.1.1)\n",
      "Requirement already satisfied: click>=8.1.7 in c:\\users\\acer\\appdata\\local\\packages\\pythonsoftwarefoundation.python.3.12_qbz5n2kfra8p0\\localcache\\local-packages\\python312\\site-packages (from duckduckgo_search) (8.1.7)\n",
      "Requirement already satisfied: pyreqwest-impersonate>=0.4.5 in c:\\users\\acer\\appdata\\local\\packages\\pythonsoftwarefoundation.python.3.12_qbz5n2kfra8p0\\localcache\\local-packages\\python312\\site-packages (from duckduckgo_search) (0.4.5)\n",
      "Requirement already satisfied: orjson>=3.10.3 in c:\\users\\acer\\appdata\\local\\packages\\pythonsoftwarefoundation.python.3.12_qbz5n2kfra8p0\\localcache\\local-packages\\python312\\site-packages (from duckduckgo_search) (3.10.3)\n",
      "Requirement already satisfied: colorama in c:\\users\\acer\\appdata\\local\\packages\\pythonsoftwarefoundation.python.3.12_qbz5n2kfra8p0\\localcache\\local-packages\\python312\\site-packages (from click>=8.1.7->duckduckgo_search) (0.4.6)\n"
     ]
    }
   ],
   "source": [
    "#pacotes\n",
    "\n",
    "import pandas as pd\n",
    "! pip install duckduckgo_search\n",
    "import duckduckgo_search\n",
    "from duckduckgo_search import DDGS\n",
    "import time\n",
    "import random\n",
    "\n",
    "\n"
   ]
  },
  {
   "cell_type": "code",
   "execution_count": 122,
   "metadata": {},
   "outputs": [],
   "source": [
    "#funções\n",
    "\n",
    "def search_and_save(terms):\n",
    "    for term in terms:\n",
    "        try:\n",
    "            search_query = f'\"{term}\" inurl:gov.br'\n",
    "            results = DDGS().text(\n",
    "                keywords=search_query,\n",
    "                region='br-pt',\n",
    "                safesearch='off',\n",
    "                timelimit='y',\n",
    "                max_results=1000\n",
    "            )\n",
    "            results_df = pd.DataFrame(results)\n",
    "            results_df.to_csv(f'{term}_.csv', mode='w', header=True, index=False)  \n",
    "            \n",
    "            # Tempo de espera aleatório entre 20 e 40 segundos\n",
    "            wait_time = random.uniform(20, 40)\n",
    "            time.sleep(wait_time)\n",
    "            \n",
    "        except Exception as e:\n",
    "            print(f'Erro ao processar o termo {term}: {e}')\n",
    "            # Espera mais tempo antes de tentar o próximo termo\n",
    "            time.sleep(60)\n",
    "\n",
    "def search_and_save_rs(terms):\n",
    "    for term in terms:\n",
    "        try:\n",
    "            search_query = f'\"{term}\" inurl:rs.gov.br'\n",
    "            results = DDGS().text(\n",
    "                keywords=search_query,\n",
    "                region='br-pt',\n",
    "                safesearch='off',\n",
    "                timelimit='y',\n",
    "                max_results=1000\n",
    "            )\n",
    "            results_df = pd.DataFrame(results)\n",
    "            results_df.to_csv(f'{term}_rs_.csv', mode='w', header=True, index=False)  \n",
    "            \n",
    "            # Tempo de espera aleatório entre 20 e 40 segundos\n",
    "            wait_time = random.uniform(20, 40)\n",
    "            time.sleep(wait_time)\n",
    "            \n",
    "        except Exception as e:\n",
    "            print(f'Erro ao processar o termo {term}: {e}')\n",
    "            # Espera mais tempo antes de tentar o próximo termo\n",
    "            time.sleep(60)\n",
    "\n",
    "\n"
   ]
  },
  {
   "cell_type": "code",
   "execution_count": 123,
   "metadata": {},
   "outputs": [],
   "source": [
    "#apostas\n",
    "\n",
    "lista_apostas = [\"tigrinho\", \"slots\",\"cassino online\", \"apostas online\",\"foguetinho\",\"jackpot\"]\n",
    "search_and_save(lista_apostas)\n",
    "search_and_save_rs(lista_apostas)"
   ]
  },
  {
   "cell_type": "code",
   "execution_count": 125,
   "metadata": {},
   "outputs": [],
   "source": [
    "#pornografia\n",
    "lista_pornografia = [\"buceta de 15.ano\", \"ganhar dinheiro com prostituição\",\"novinha\", \"xxxvideos\"]\n",
    "search_and_save(lista_pornografia)\n",
    "search_and_save_rs(lista_pornografia)"
   ]
  }
 ],
 "metadata": {
  "kernelspec": {
   "display_name": "Python 3",
   "language": "python",
   "name": "python3"
  },
  "language_info": {
   "codemirror_mode": {
    "name": "ipython",
    "version": 3
   },
   "file_extension": ".py",
   "mimetype": "text/x-python",
   "name": "python",
   "nbconvert_exporter": "python",
   "pygments_lexer": "ipython3",
   "version": "3.12.3"
  }
 },
 "nbformat": 4,
 "nbformat_minor": 2
}
